{
  "cells": [
    {
      "cell_type": "markdown",
      "id": "18b94ab8",
      "metadata": {
        "id": "18b94ab8"
      },
      "source": [
        "# Overview\n",
        "\n",
        "In class, we dived deeply into the world of MEV extraction and the various types of MEV-based attacks that can occur in the DeFi market. Specifically, we covered:\n",
        "- Arbitrage transactions (ex: https://etherscan.io/tx/0xb55d4267a3565fdc8bada2638f97ed0bb31aa40bf8d4b304086dbdc1ca7d7844)\n",
        "- Liquidation transactions (ex: https://etherscan.io/tx/0xd70b42daec5bb9ac6e5df3d25d309f186db50df701f667e1f20b22448ea27d41)\n",
        "- Sandwich transactions (ex: https://etherscan.io/txs?block=12775690&p=3)\n",
        "![](https://github.com/Blockchains-Princeton/COS-ECE473-sp2023/blob/main/Labs/Lab09/img/multi_layered_sandwich1.png?raw=1)\n",
        "\n",
        "- JIT liquidity transactions (ex: https://etherscan.io/txs?block=13601096&p=6)\n",
        "![](https://github.com/Blockchains-Princeton/COS-ECE473-sp2023/blob/main/Labs/Lab09/img/JIT_liquidity1.png?raw=1)\n",
        "\n",
        "Now, we will consider the status quo that serves as motivation for Flashbots' tools, like SUAVE, as well as preliminary architecture that could serve as a prototype to future SUAVE implementation.\n",
        "\n",
        "# MEV Boost Block Builder Stats\n",
        "\n",
        "- The top 5 block builders on MEV boost contribute ~90% of the total blocks built\n",
        "- Go to Relayscan.io [here](https://www.relayscan.io/) to check the live updated stats.\n",
        "\n",
        "This is a problem because it prevents the existence of a competitive builder market. Specifically, this could lead to centralization, with users sending their transactions to one builder over another. This behavior could harm Ethereum's decentralization and lead to a few builders capturing a large portion of the MEV market, potentially monopolizing the space.\n",
        "\n",
        "# Example of a large MEV-based attack:\n",
        "\n",
        "On July 28th, 2021, there was a large arbitrage-based attack performed via Sushiswap/Uniswap. Link to the exact etherscan transaction [here](https://etherscan.io/tx/0xfcf4558f6432689ea57737fe63124a5ec39fd6ba6aaf198df13a825dd599bffc).\n",
        "\n",
        "- We can use the Flashbots Bundle Explorer tool (https://flashbots-explorer.marto.lol/) to further examine the exact details of this transaction, by querying using the block number. \n",
        "- It is interesting to consider the various intermediate assets used to carry out this attack. What were they?\n",
        "- How did this happen? Per @mevalphaleak on Twitter, \"1) Model missed correct transaction to back-run by 1 full block.\n",
        "2) Random unrelated transaction included in the bundle increased gas cost by 50% for no reason.\" Does this mean the market is not fully efficient? (Think Flashbots)\n",
        "\n",
        "\n",
        "\n",
        "# MEV-Share / SUAVE Precursor Lab\n",
        "\n",
        "Given the largely theoretical elements of the SUAVE proposal, this lab will focus largely on the hypotheticals: specifically, we will hone in on Flashbots' MEV-Share tool, which per the documentation is defined as \"a protocol that enables users, wallets, and dapps to capture the MEV their transactions create.\" \n",
        "\n",
        "This is a very high-level explanation, but the key idea is that MEV-Share can be seen as a precursor to SUAVE, as it is built on the Matchmaker service created by Flashbots which enables programmable privacy and a limited form of inclination expression -- analogous to the preference environment outlined in the SUAVE proposal.\n",
        "\n",
        "MEV-Share works as follows:\n",
        "- A user can submit a transaction to the matchmaker service, and may submit certain preferences with the transaction (privacy)\n",
        "- Searchers receive particular data about preferences and create corresponding bundles, which provide matchmaker info on where to insert private transactions\n",
        "- Matchmaker simulates private transactions to find MEV opportunities\n",
        "- Matched bundles with MEV opportunities are provided to builders -- but they are required to send profited MEV back to original users\n",
        "- Builders create blocks that contain matched bundles and pay MEV to users based on the validity condition \n",
        "\n",
        "\n",
        "You can try a brief MEV-Share demo outlined below:\n",
        "\n",
        "\n",
        "\n",
        "\n",
        "\n",
        "\n",
        "\n",
        "\n"
      ]
    },
    {
      "cell_type": "markdown",
      "source": [
        "Prerequisites\n",
        "\n",
        "Make sure you have:\n",
        "- TypeScript & Yarn on your machine\n",
        "- Git \n",
        "- A code editor (i.e, VSCode)"
      ],
      "metadata": {
        "id": "ef1d6Uxqx2F_"
      },
      "id": "ef1d6Uxqx2F_"
    },
    {
      "cell_type": "markdown",
      "source": [
        "Clone the Flashbots matchmaker-ts repository on to your local machine:"
      ],
      "metadata": {
        "id": "6xEDBPNAe19l"
      },
      "id": "6xEDBPNAe19l"
    },
    {
      "cell_type": "code",
      "source": [
        "# DO NOT RUN THIS CODE IN THE IPYNB FILE\n",
        "git clone https://github.com/flashbots/matchmaker-ts\n",
        "cd matchmaker-ts\n",
        "yarn install && yarn build"
      ],
      "metadata": {
        "id": "-UjustzPezOW"
      },
      "id": "-UjustzPezOW",
      "execution_count": null,
      "outputs": []
    },
    {
      "cell_type": "markdown",
      "source": [
        "Now you need to copy the .env file located in src/examples."
      ],
      "metadata": {
        "id": "y-QIExlWe_Vy"
      },
      "id": "y-QIExlWe_Vy"
    },
    {
      "cell_type": "code",
      "source": [
        "# DO NOT RUN THIS CODE IN THE IPYNB FILE\n",
        "cd src/examples\n",
        "cp .env.example .env"
      ],
      "metadata": {
        "id": "0ZVNkzEsfLdB"
      },
      "id": "0ZVNkzEsfLdB",
      "execution_count": null,
      "outputs": []
    },
    {
      "cell_type": "markdown",
      "source": [
        "Fill in the corresponding fields in your new copy of the .env file:"
      ],
      "metadata": {
        "id": "X5rTOLvdfMCU"
      },
      "id": "X5rTOLvdfMCU"
    },
    {
      "cell_type": "code",
      "source": [
        "# DO NOT RUN THIS CODE IN THE IPYNB FILE\n",
        "# private key used to sign requests to Flashbots APIs; used for reputation, should not have funds\n",
        "AUTH_PRIVATE_KEY=\n",
        "# private key used to sign transactions sent to mev-share\n",
        "SENDER_PRIVATE_KEY=\n",
        "# vanilla Ethereum RPC endpoint (HTTP only)\n",
        "PROVIDER_URL="
      ],
      "metadata": {
        "id": "CFfwE4AVfPyl"
      },
      "id": "CFfwE4AVfPyl",
      "execution_count": null,
      "outputs": []
    },
    {
      "cell_type": "markdown",
      "source": [
        "Now you can run an example transaction using arguments: \n",
        "\n",
        "- yarn example.tx \n",
        "\n",
        "This simulates a transaction to the Goerli testnet matchmaker by Flashbots using the SENDER_PRIVATE_KEY.\n",
        "\n",
        "- yarn example.backrun\n",
        "\n",
        "This simulates backrunning on a pending trasnaction for MEV-share pending transactions. You can look more into the open source code for the Matchmaker service by Flashbots [here](https://github.com/flashbots/matchmaker-ts/tree/main/src)"
      ],
      "metadata": {
        "id": "4BsxQu2It4ba"
      },
      "id": "4BsxQu2It4ba"
    },
    {
      "cell_type": "markdown",
      "source": [
        "If you want to read more about Flashbots' current work, check out the universal documentation for all their tools [here](https://docs.flashbots.net/)"
      ],
      "metadata": {
        "id": "W272TNFKe1Im"
      },
      "id": "W272TNFKe1Im"
    }
  ],
  "metadata": {
    "kernelspec": {
      "display_name": "Python 3 (ipykernel)",
      "language": "python",
      "name": "python3"
    },
    "language_info": {
      "codemirror_mode": {
        "name": "ipython",
        "version": 3
      },
      "file_extension": ".py",
      "mimetype": "text/x-python",
      "name": "python",
      "nbconvert_exporter": "python",
      "pygments_lexer": "ipython3",
      "version": "3.9.15"
    },
    "colab": {
      "provenance": []
    }
  },
  "nbformat": 4,
  "nbformat_minor": 5
}